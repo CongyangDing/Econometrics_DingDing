{
 "cells": [
  {
   "cell_type": "markdown",
   "id": "f3af15e2",
   "metadata": {},
   "source": [
    "# Introduction"
   ]
  },
  {
   "cell_type": "markdown",
   "id": "fdbaa786",
   "metadata": {},
   "source": [
    "**Goal**: Study about the unknown feature of a probability distribution \\textbf{P}(satisfying some parametric or non-parametric properties) based on an iid(can be relaxed) sample of size $n$ from \\textbf{P}."
   ]
  },
  {
   "cell_type": "markdown",
   "id": "002e88ce",
   "metadata": {},
   "source": [
    "  Or, given $X_1, ..., X_n$ i.i.d with probability distribution \\textbf{P}, we want to learn some parameter $\\theta(P)$."
   ]
  },
  {
   "cell_type": "markdown",
   "id": "1828a2cc",
   "metadata": {},
   "source": [
    "- Estimate $\\theta(P)$: An estimator \n",
    "- Test the null hypothesis $\\theta(P) = \\theta_0$: A \n",
    "- Construct confidence interval: A confidence interval is a set $C_n = C_n(X_1, ..., X_n)$ that contains $\\theta(P)$ with some pre-specified probability(approximate)."
   ]
  },
  {
   "cell_type": "markdown",
   "id": "004c1395",
   "metadata": {},
   "source": [
    "# Large-Sample Theory"
   ]
  },
  {
   "cell_type": "markdown",
   "id": "54004fa7",
   "metadata": {},
   "source": [
    "## Convergence in Probability"
   ]
  },
  {
   "cell_type": "markdown",
   "id": "d7abf28c",
   "metadata": {},
   "source": [
    "A sequence of random vectors"
   ]
  },
  {
   "cell_type": "code",
   "execution_count": null,
   "id": "717ef579",
   "metadata": {},
   "outputs": [],
   "source": []
  }
 ],
 "metadata": {
  "kernelspec": {
   "display_name": "Python 3 (ipykernel)",
   "language": "python",
   "name": "python3"
  },
  "language_info": {
   "codemirror_mode": {
    "name": "ipython",
    "version": 3
   },
   "file_extension": ".py",
   "mimetype": "text/x-python",
   "name": "python",
   "nbconvert_exporter": "python",
   "pygments_lexer": "ipython3",
   "version": "3.9.13"
  },
  "latex_envs": {
   "LaTeX_envs_menu_present": true,
   "autoclose": false,
   "autocomplete": true,
   "bibliofile": "biblio.bib",
   "cite_by": "apalike",
   "current_citInitial": 1,
   "eqLabelWithNumbers": true,
   "eqNumInitial": 1,
   "hotkeys": {
    "equation": "Ctrl-E",
    "itemize": "Ctrl-I"
   },
   "labels_anchors": false,
   "latex_user_defs": false,
   "report_style_numbering": false,
   "user_envs_cfg": false
  },
  "toc": {
   "base_numbering": 1,
   "nav_menu": {},
   "number_sections": true,
   "sideBar": true,
   "skip_h1_title": false,
   "title_cell": "Table of Contents",
   "title_sidebar": "Contents",
   "toc_cell": false,
   "toc_position": {},
   "toc_section_display": true,
   "toc_window_display": false
  }
 },
 "nbformat": 4,
 "nbformat_minor": 5
}
